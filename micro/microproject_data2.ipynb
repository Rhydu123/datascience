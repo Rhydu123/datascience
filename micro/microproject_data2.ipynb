{
  "nbformat": 4,
  "nbformat_minor": 0,
  "metadata": {
    "colab": {
      "provenance": []
    },
    "kernelspec": {
      "name": "python3",
      "display_name": "Python 3"
    },
    "language_info": {
      "name": "python"
    }
  },
  "cells": [
    {
      "cell_type": "code",
      "source": [
        "# Importing essential libraries\n",
        "import pandas as pd\n",
        "import matplotlib.pyplot as plt\n",
        "import seaborn as sns\n",
        "from sklearn.preprocessing import StandardScaler\n",
        "from sklearn.neighbors import KNeighborsClassifier\n",
        "from sklearn.tree import DecisionTreeClassifier\n",
        "from sklearn.ensemble import RandomForestClassifier\n",
        "from sklearn.model_selection import cross_val_score\n",
        "import joblib\n",
        "\n",
        "\n",
        "df = pd.read_csv('heart.csv')\n",
        "\n",
        "# Preprocess the data\n",
        "dataset = pd.get_dummies(df, columns=['sex', 'cp', 'fbs', 'restecg', 'exang', 'slope', 'ca', 'thal'])\n",
        "columns_to_scale = ['age', 'trestbps', 'chol', 'thalach', 'oldpeak']\n",
        "standScaler = StandardScaler()\n",
        "dataset[columns_to_scale] = standScaler.fit_transform(dataset[columns_to_scale])\n",
        "\n",
        "# Splitting the dataset into features and target\n",
        "X = dataset.drop('target', axis=1)\n",
        "y = dataset['target']\n"
      ],
      "metadata": {
        "id": "poVaHk_ICYZ-"
      },
      "execution_count": 4,
      "outputs": []
    },
    {
      "cell_type": "code",
      "source": [
        "# Train KNeighbors Classifier\n",
        "knn_classifier = KNeighborsClassifier(n_neighbors=12)\n",
        "knn_classifier.fit(X, y)\n",
        "joblib.dump(knn_classifier, 'knn_model.joblib')\n",
        "\n",
        "# Train Decision Tree Classifier\n",
        "decision_classifier = DecisionTreeClassifier(max_depth=3)\n",
        "decision_classifier.fit(X, y)\n",
        "joblib.dump(decision_classifier, 'decision_tree_model.joblib')\n",
        "\n",
        "# Train Random Forest Classifier\n",
        "forest_classifier = RandomForestClassifier(n_estimators=90)\n",
        "forest_classifier.fit(X, y)\n",
        "joblib.dump(forest_classifier, 'random_forest_model.joblib')\n"
      ],
      "metadata": {
        "colab": {
          "base_uri": "https://localhost:8080/"
        },
        "id": "HWJG-rqkCYcz",
        "outputId": "8cc47cc9-3ffb-4fae-f9f9-9c884ca29fc9"
      },
      "execution_count": 5,
      "outputs": [
        {
          "output_type": "execute_result",
          "data": {
            "text/plain": [
              "['random_forest_model.joblib']"
            ]
          },
          "metadata": {},
          "execution_count": 5
        }
      ]
    }
  ]
}